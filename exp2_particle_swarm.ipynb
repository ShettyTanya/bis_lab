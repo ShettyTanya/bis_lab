{
  "nbformat": 4,
  "nbformat_minor": 0,
  "metadata": {
    "colab": {
      "provenance": [],
      "authorship_tag": "ABX9TyMsZSqoMlG/yJO0sbDCh7qV",
      "include_colab_link": true
    },
    "kernelspec": {
      "name": "python3",
      "display_name": "Python 3"
    },
    "language_info": {
      "name": "python"
    }
  },
  "cells": [
    {
      "cell_type": "markdown",
      "metadata": {
        "id": "view-in-github",
        "colab_type": "text"
      },
      "source": [
        "<a href=\"https://colab.research.google.com/github/ShettyTanya/bis_lab/blob/main/exp2_particle_swarm.ipynb\" target=\"_parent\"><img src=\"https://colab.research.google.com/assets/colab-badge.svg\" alt=\"Open In Colab\"/></a>"
      ]
    },
    {
      "cell_type": "code",
      "execution_count": null,
      "metadata": {
        "colab": {
          "base_uri": "https://localhost:8080/"
        },
        "id": "tmeIbZZEiygJ",
        "outputId": "80a7a80a-23d0-46b5-ca38-b676c37a7475"
      },
      "outputs": [
        {
          "output_type": "stream",
          "name": "stdout",
          "text": [
            "Best Tour: [3 0 1 4 2]\n",
            "Best Distance: 6\n"
          ]
        }
      ],
      "source": [
        "import numpy as np\n",
        "from itertools import permutations\n",
        "\n",
        "def calculate_distance(tour, distance_matrix):\n",
        "    return sum(distance_matrix[tour[i], tour[i + 1]] for i in range(len(tour) - 1)) + distance_matrix[tour[-1], tour[0]]\n",
        "\n",
        "class TSPParticle:\n",
        "    def __init__(self, num_cities):\n",
        "        self.position = np.random.permutation(num_cities)\n",
        "        self.best_position = np.copy(self.position)\n",
        "        self.best_value = float('inf')\n",
        "\n",
        "def pso_tsp(num_particles, num_cities, distance_matrix, num_iterations, w, c1, c2):\n",
        "    swarm = [TSPParticle(num_cities) for _ in range(num_particles)]\n",
        "    global_best_position = np.copy(swarm[0].position)\n",
        "    global_best_value = float('inf')\n",
        "\n",
        "    for particle in swarm:\n",
        "        fitness_value = calculate_distance(particle.position, distance_matrix)\n",
        "\n",
        "        if fitness_value < particle.best_value:\n",
        "            particle.best_value = fitness_value\n",
        "            particle.best_position = np.copy(particle.position)\n",
        "\n",
        "        if fitness_value < global_best_value:\n",
        "            global_best_value = fitness_value\n",
        "            global_best_position = np.copy(particle.position)\n",
        "\n",
        "    for _ in range(num_iterations):\n",
        "        for particle in swarm:\n",
        "            # Update position (swap two cities)\n",
        "            i, j = np.random.choice(num_cities, 2, replace=False)\n",
        "            particle.position[i], particle.position[j] = particle.position[j], particle.position[i]\n",
        "\n",
        "            # Evaluate fitness\n",
        "            fitness_value = calculate_distance(particle.position, distance_matrix)\n",
        "\n",
        "            # Update personal best\n",
        "            if fitness_value < particle.best_value:\n",
        "                particle.best_value = fitness_value\n",
        "                particle.best_position = np.copy(particle.position)\n",
        "\n",
        "            # Update global best\n",
        "            if fitness_value < global_best_value:\n",
        "                global_best_value = fitness_value\n",
        "                global_best_position = np.copy(particle.best_position)\n",
        "\n",
        "    return global_best_position, global_best_value\n",
        "\n",
        "# Example usage\n",
        "num_cities = 5\n",
        "distance_matrix = np.random.randint(1, 3, (num_cities, num_cities))\n",
        "np.fill_diagonal(distance_matrix, 0)  # Distance to self is 0\n",
        "\n",
        "best_tour, best_distance = pso_tsp(\n",
        "    num_particles=30,\n",
        "    num_cities=num_cities,\n",
        "    distance_matrix=distance_matrix,\n",
        "    num_iterations=100,\n",
        "    w=0.5,\n",
        "    c1=1.0,\n",
        "    c2=1.0\n",
        ")\n",
        "\n",
        "print(\"Best Tour:\", best_tour)\n",
        "print(\"Best Distance:\", best_distance)\n"
      ]
    }
  ]
}