{
  "nbformat": 4,
  "nbformat_minor": 0,
  "metadata": {
    "colab": {
      "provenance": [],
      "authorship_tag": "ABX9TyOdRSR1vjBgyzC7YvZ/EvtF",
      "include_colab_link": true
    },
    "kernelspec": {
      "name": "python3",
      "display_name": "Python 3"
    },
    "language_info": {
      "name": "python"
    }
  },
  "cells": [
    {
      "cell_type": "markdown",
      "metadata": {
        "id": "view-in-github",
        "colab_type": "text"
      },
      "source": [
        "<a href=\"https://colab.research.google.com/github/ShettyTanya/bis_lab/blob/main/exp7_gene_expression.ipynb\" target=\"_parent\"><img src=\"https://colab.research.google.com/assets/colab-badge.svg\" alt=\"Open In Colab\"/></a>"
      ]
    },
    {
      "cell_type": "code",
      "execution_count": null,
      "metadata": {
        "colab": {
          "base_uri": "https://localhost:8080/"
        },
        "id": "bJMyaxizsK7-",
        "outputId": "7168b031-f957-4138-9980-1e7dee0e2b1b"
      },
      "outputs": [
        {
          "output_type": "stream",
          "name": "stdout",
          "text": [
            "Best Feature Set:  [0, 1, 1, 1]\n",
            "Best Fitness (Accuracy):  1.0\n"
          ]
        }
      ],
      "source": [
        "import random\n",
        "import numpy as np\n",
        "from sklearn.datasets import load_iris\n",
        "from sklearn.model_selection import train_test_split\n",
        "from sklearn.svm import SVC\n",
        "from sklearn.metrics import accuracy_score\n",
        "\n",
        "# Step 1: Define the Problem (Feature Selection Objective)\n",
        "def objective_function(selected_features, X_train, y_train, X_test, y_test):\n",
        "    # Perform classification using only the selected features\n",
        "    X_train_selected = X_train[:, selected_features]\n",
        "    X_test_selected = X_test[:, selected_features]\n",
        "\n",
        "    # Train a Support Vector Classifier (SVC)\n",
        "    model = SVC(kernel='linear')\n",
        "    model.fit(X_train_selected, y_train)\n",
        "\n",
        "    # Make predictions and evaluate accuracy\n",
        "    y_pred = model.predict(X_test_selected)\n",
        "    accuracy = accuracy_score(y_test, y_pred)\n",
        "\n",
        "    return accuracy  # We aim to maximize accuracy\n",
        "\n",
        "# Step 2: Initialize Parameters\n",
        "population_size = 30  # Number of individuals in the population\n",
        "num_features = 4      # Number of features in the dataset\n",
        "mutation_rate = 0.2   # Mutation rate\n",
        "crossover_rate = 0.9  # Crossover rate\n",
        "num_generations = 100 # Number of generations\n",
        "feature_range = (0, 1) # Range for gene values (0 or 1 for feature selection)\n",
        "\n",
        "# Step 3: Initialize Population (Random gene sequences)\n",
        "def initialize_population(population_size, num_features):\n",
        "    population = []\n",
        "    for _ in range(population_size):\n",
        "        # Random sequence of 0s and 1s (0 for not selected, 1 for selected)\n",
        "        individual = [random.randint(0, 1) for _ in range(num_features)]\n",
        "        population.append(individual)\n",
        "    return population\n",
        "\n",
        "# Step 4: Evaluate Fitness (Objective Function)\n",
        "def evaluate_fitness(population, X_train, y_train, X_test, y_test):\n",
        "    fitness_values = []\n",
        "    for individual in population:\n",
        "        selected_features = [i for i in range(len(individual)) if individual[i] == 1]\n",
        "        if len(selected_features) == 0:\n",
        "            fitness_values.append(0)  # No features selected leads to a poor fitness value\n",
        "        else:\n",
        "            fitness = objective_function(selected_features, X_train, y_train, X_test, y_test)\n",
        "            fitness_values.append(fitness)\n",
        "    return fitness_values\n",
        "\n",
        "# Step 5: Selection (Roulette Wheel Selection)\n",
        "def selection(population, fitness_values):\n",
        "    total_fitness = sum(fitness_values)\n",
        "    probabilities = [fitness / total_fitness for fitness in fitness_values]\n",
        "    selected = random.choices(population, weights=probabilities, k=2)  # Select 2 individuals\n",
        "    return selected\n",
        "\n",
        "# Step 6: Crossover (Single-point crossover)\n",
        "def crossover(parent1, parent2):\n",
        "    if random.random() < crossover_rate:\n",
        "        crossover_point = random.randint(0, len(parent1) - 1)  # Single-point crossover\n",
        "        offspring1 = parent1[:crossover_point] + parent2[crossover_point:]\n",
        "        offspring2 = parent2[:crossover_point] + parent1[crossover_point:]\n",
        "        return offspring1, offspring2\n",
        "    else:\n",
        "        return parent1, parent2\n",
        "\n",
        "# Step 7: Mutation (Random mutation of genes)\n",
        "def mutation(offspring):\n",
        "    if random.random() < mutation_rate:\n",
        "        mutation_point = random.randint(0, len(offspring) - 1)\n",
        "        offspring[mutation_point] = 1 - offspring[mutation_point]  # Flip the gene (0 to 1 or 1 to 0)\n",
        "    return offspring\n",
        "\n",
        "# Step 8: Gene Expression (Direct mapping in feature selection)\n",
        "def gene_expression(individual):\n",
        "    # In this case, the gene expression directly maps the gene sequence to feature selection\n",
        "    selected_features = [i for i in range(len(individual)) if individual[i] == 1]\n",
        "    return selected_features\n",
        "\n",
        "# Step 9: Iterate through generations (Genetic Algorithm loop)\n",
        "def genetic_algorithm(X_train, y_train, X_test, y_test):\n",
        "    population = initialize_population(population_size, num_features)\n",
        "    best_solution = None\n",
        "    best_fitness = 0\n",
        "\n",
        "    for generation in range(num_generations):\n",
        "        fitness_values = evaluate_fitness(population, X_train, y_train, X_test, y_test)\n",
        "\n",
        "        # Track the best solution in the population\n",
        "        for i in range(population_size):\n",
        "            if fitness_values[i] > best_fitness:\n",
        "                best_fitness = fitness_values[i]\n",
        "                best_solution = population[i]\n",
        "\n",
        "        # Selection, Crossover, Mutation, Gene Expression\n",
        "        new_population = []\n",
        "        for _ in range(population_size // 2):  # We need to generate population_size offspring\n",
        "            parent1, parent2 = selection(population, fitness_values)\n",
        "            offspring1, offspring2 = crossover(parent1, parent2)\n",
        "            offspring1 = mutation(offspring1)\n",
        "            offspring2 = mutation(offspring2)\n",
        "            new_population.append(offspring1)\n",
        "            new_population.append(offspring2)\n",
        "\n",
        "        population = new_population  # Update population for the next generation\n",
        "\n",
        "    return best_solution, best_fitness\n",
        "\n",
        "# Load the Iris dataset\n",
        "iris = load_iris()\n",
        "X = iris.data\n",
        "y = iris.target\n",
        "\n",
        "# Split the data into training and test sets\n",
        "X_train, X_test, y_train, y_test = train_test_split(X, y, test_size=0.3, random_state=42)\n",
        "\n",
        "# Run the genetic algorithm for feature selection\n",
        "best_solution, best_fitness = genetic_algorithm(X_train, y_train, X_test, y_test)\n",
        "\n",
        "# Output the best solution (selected features) and fitness (accuracy)\n",
        "print(\"Best Feature Set: \", best_solution)\n",
        "print(\"Best Fitness (Accuracy): \", best_fitness)\n"
      ]
    },
    {
      "cell_type": "code",
      "source": [],
      "metadata": {
        "id": "Cr6yzU6zvL9h"
      },
      "execution_count": null,
      "outputs": []
    }
  ]
}