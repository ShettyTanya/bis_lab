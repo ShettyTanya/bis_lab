{
  "cells": [
    {
      "cell_type": "markdown",
      "metadata": {
        "id": "view-in-github",
        "colab_type": "text"
      },
      "source": [
        "<a href=\"https://colab.research.google.com/github/ShettyTanya/bis_lab/blob/main/exp6_parallel_cellular.ipynb\" target=\"_parent\"><img src=\"https://colab.research.google.com/assets/colab-badge.svg\" alt=\"Open In Colab\"/></a>"
      ]
    },
    {
      "cell_type": "code",
      "execution_count": null,
      "metadata": {
        "colab": {
          "background_save": true,
          "base_uri": "https://localhost:8080/"
        },
        "id": "5JSiM3M3afT1",
        "outputId": "de0780a6-c01e-44ba-ab2f-1a5b290e75a8"
      },
      "outputs": [
        {
          "name": "stdout",
          "output_type": "stream",
          "text": [
            "Best Solution Found (Route): [(2, 4), (4, 3), (3, 1), (0, 0), (1, 2)]\n",
            "Best Fitness Value (Total Distance): 12.10654957016754\n"
          ]
        }
      ],
      "source": [
        "import random\n",
        "import numpy as np\n",
        "\n",
        "# Step 1: Define the Problem (Traveling Salesman Problem)\n",
        "# Example: A list of cities represented by (x, y) coordinates\n",
        "cities = [(0, 0), (1, 2), (2, 4), (3, 1), (4, 3)]\n",
        "\n",
        "# Function to calculate Euclidean distance between two cities\n",
        "def euclidean_distance(city1, city2):\n",
        "    return np.sqrt((city1[0] - city2[0])**2 + (city1[1] - city2[1])**2)\n",
        "\n",
        "# Function to calculate the total length of a TSP route\n",
        "def total_distance(route):\n",
        "    dist = 0\n",
        "    for i in range(len(route) - 1):\n",
        "        dist += euclidean_distance(route[i], route[i + 1])\n",
        "    dist += euclidean_distance(route[-1], route[0])  # Return to the start\n",
        "    return dist\n",
        "\n",
        "# Step 2: Initialize Parameters\n",
        "num_cells = 100                  # Number of cells (solutions)\n",
        "num_iterations = 1000            # Number of iterations\n",
        "neighborhood_radius = 1          # Neighborhood size (e.g., 1 for Von Neumann neighborhood)\n",
        "\n",
        "# Step 3: Initialize Population (random permutations of cities)\n",
        "def initialize_population(num_cells, cities):\n",
        "    population = []\n",
        "    for _ in range(num_cells):\n",
        "        route = random.sample(cities, len(cities))  # Random route (permutation of cities)\n",
        "        population.append(route)\n",
        "    return population\n",
        "\n",
        "# Step 4: Evaluate Fitness of each cell (route)\n",
        "def evaluate_fitness(population):\n",
        "    fitness_values = []\n",
        "    for route in population:\n",
        "        fitness = total_distance(route)\n",
        "        fitness_values.append(fitness)\n",
        "    return fitness_values\n",
        "\n",
        "# Step 5: Update States of each cell based on its neighbors\n",
        "def update_cell_state(cell, neighbors):\n",
        "    # Example: Swap two cities based on the best neighbor\n",
        "    best_neighbor = min(neighbors, key=lambda x: total_distance(x))  # Select the best neighbor\n",
        "    best_cell = min(neighbors, key=lambda x: total_distance(x))\n",
        "    if total_distance(cell) > total_distance(best_cell):\n",
        "        return best_neighbor  # Accept the best neighbor\n",
        "    return cell  # Otherwise, retain the current state\n",
        "\n",
        "# Function to find neighbors of a cell (nearby cells in the population)\n",
        "def find_neighbors(cell, population, neighborhood_radius):\n",
        "    neighbors = []\n",
        "    index = population.index(cell)\n",
        "    # For simplicity, we'll just consider the neighboring cells in the population list\n",
        "    # You could use more sophisticated distance-based criteria here\n",
        "    neighbors.append(population[(index - 1) % len(population)])  # Previous neighbor\n",
        "    neighbors.append(population[(index + 1) % len(population)])  # Next neighbor\n",
        "    return neighbors\n",
        "\n",
        "# Step 6: Iterate through the algorithm until convergence or max iterations\n",
        "best_solution = None\n",
        "best_fitness = float('inf')\n",
        "\n",
        "population = initialize_population(num_cells, cities)\n",
        "\n",
        "for iteration in range(num_iterations):\n",
        "    fitness_values = evaluate_fitness(population)\n",
        "\n",
        "    # Track the best solution found so far\n",
        "    for i in range(num_cells):\n",
        "        if fitness_values[i] < best_fitness:\n",
        "            best_fitness = fitness_values[i]\n",
        "            best_solution = population[i]\n",
        "\n",
        "    # Update the states of cells in parallel (simplified for illustration)\n",
        "    new_population = []\n",
        "    for i in range(num_cells):\n",
        "        neighbors = find_neighbors(population[i], population, neighborhood_radius)\n",
        "        new_state = update_cell_state(population[i], neighbors)\n",
        "        new_population.append(new_state)\n",
        "\n",
        "    population = new_population  # Update population for the next iteration\n",
        "\n",
        "# Step 7: Output the Best Solution\n",
        "print(\"Best Solution Found (Route):\", best_solution)\n",
        "print(\"Best Fitness Value (Total Distance):\", best_fitness)\n"
      ]
    }
  ],
  "metadata": {
    "colab": {
      "provenance": [],
      "authorship_tag": "ABX9TyNCquwHzh7e4NrfFbeMOy+u",
      "include_colab_link": true
    },
    "kernelspec": {
      "display_name": "Python 3",
      "name": "python3"
    },
    "language_info": {
      "name": "python"
    }
  },
  "nbformat": 4,
  "nbformat_minor": 0
}